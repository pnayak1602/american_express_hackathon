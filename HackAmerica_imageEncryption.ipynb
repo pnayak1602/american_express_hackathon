{
  "nbformat": 4,
  "nbformat_minor": 0,
  "metadata": {
    "colab": {
      "provenance": []
    },
    "kernelspec": {
      "name": "python3",
      "display_name": "Python 3"
    },
    "language_info": {
      "name": "python"
    }
  },
  "cells": [
    {
      "cell_type": "markdown",
      "source": [
        "Encryption"
      ],
      "metadata": {
        "id": "XuSMLZA7YD1l"
      }
    },
    {
      "cell_type": "code",
      "execution_count": null,
      "metadata": {
        "colab": {
          "base_uri": "https://localhost:8080/"
        },
        "id": "OpLQ1-fxX6Jg",
        "outputId": "e42357ee-4861-4929-f47b-efc0a28167b9"
      },
      "outputs": [
        {
          "output_type": "stream",
          "name": "stdout",
          "text": [
            "Encryption Done...\n"
          ]
        }
      ],
      "source": [
        "# try block to handle exception\n",
        "try:\n",
        "\t# take path of image as a input\n",
        "\tpath = '/content/original.jpg'\n",
        "\tpath2 = '/content/encrypted_image.jpg'\n",
        "\t\n",
        "\t# taking encryption key as input\n",
        "\tkey = 5 #any number\n",
        "\t\n",
        "\t# print path of image file and encryption key that\n",
        "\t# we are using\n",
        "\t# print('The path of file : ', path)\n",
        "\t# print('Key for encryption : ', key)\n",
        "\t\n",
        "\t# open file for reading purpose\n",
        "\tfin = open(path, 'rb')\n",
        "\t\n",
        "\t# storing image data in variable \"image\"\n",
        "\timage = fin.read()\n",
        "\tfin.close()\n",
        "\t\n",
        "\t# converting image into byte array to\n",
        "\t# perform encryption easily on numeric data\n",
        "\timage = bytearray(image)\n",
        "\n",
        "\t# performing XOR operation on each value of bytearray\n",
        "\tfor index, values in enumerate(image):\n",
        "\t\timage[index] = values ^ key\n",
        "\n",
        "\t# opening file for writing purpose\n",
        "\tfin = open(path2, 'wb')\n",
        "\t\n",
        "\t# writing encrypted data in image\n",
        "\tfin.write(image)\n",
        "\tfin.close()\n",
        "\tprint('Encryption Done...')\n",
        "\n",
        "\t\n",
        "except Exception:\n",
        "\tprint('Error caught : ', Exception.__name__)"
      ]
    },
    {
      "cell_type": "markdown",
      "source": [
        "Decryption"
      ],
      "metadata": {
        "id": "IShdgPzFYMMI"
      }
    },
    {
      "cell_type": "code",
      "source": [
        "# try block to handle the exception\n",
        "try:\n",
        "\t# take path of image as a input\n",
        "\tenc_path = '/content/encrypted_image.jpg'\n",
        "\tpath3 = '/content/decrypted_image.jpg'\n",
        "\t\n",
        "\t# taking decryption key as input\n",
        "\tkey = 5\n",
        "\t\n",
        "\t# print path of image file and decryption key that we are using\n",
        "\t# print('The path of file : ', path)\n",
        "\t# print('Note : Encryption key and Decryption key must be same.')\n",
        "\t# print('Key for Decryption : ', key)\n",
        "\t\n",
        "\t# open file for reading purpose\n",
        "\tfin = open(enc_path, 'rb')\n",
        "\t\n",
        "\t# storing image data in variable \"image\"\n",
        "\timage = fin.read()\n",
        "\tfin.close()\n",
        "\t\n",
        "\t# converting image into byte array to perform decryption easily on numeric data\n",
        "\timage = bytearray(image)\n",
        "\n",
        "\t# performing XOR operation on each value of bytearray\n",
        "\tfor index, values in enumerate(image):\n",
        "\t\timage[index] = values ^ key\n",
        "\n",
        "\t# opening file for writing purpose\n",
        "\tfin = open(path3, 'wb')\n",
        "\t\n",
        "\t# writing decryption data in image\n",
        "\tfin.write(image)\n",
        "\tfin.close()\n",
        "\tprint('Decryption Done...')\n",
        "\n",
        "\n",
        "except Exception:\n",
        "\tprint('Error caught : ', Exception.__name__)"
      ],
      "metadata": {
        "colab": {
          "base_uri": "https://localhost:8080/"
        },
        "id": "bMJjzeCJYL6A",
        "outputId": "3d34c988-05b2-4af4-e9a9-8ec642d010ee"
      },
      "execution_count": null,
      "outputs": [
        {
          "output_type": "stream",
          "name": "stdout",
          "text": [
            "Decryption Done...\n"
          ]
        }
      ]
    }
  ]
}